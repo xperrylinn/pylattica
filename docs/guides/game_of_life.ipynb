{
 "cells": [
  {
   "cell_type": "code",
   "execution_count": null,
   "id": "1552cb7a-cedd-49f5-9108-fb0ff55c698c",
   "metadata": {},
   "outputs": [],
   "source": [
    "%load_ext autoreload\n",
    "%autoreload 2"
   ]
  },
  {
   "cell_type": "code",
   "execution_count": 13,
   "id": "870eed54-fcd0-4ecb-a2ba-27ce9fc549dd",
   "metadata": {},
   "outputs": [],
   "source": [
    "from pylattica.core import SynchronousRunner, Lattice, PeriodicStructure, SimulationState"
   ]
  },
  {
   "cell_type": "markdown",
   "id": "bbf19c61-6567-423b-b0d8-709a2fb6f83a",
   "metadata": {},
   "source": [
    "# Conway's Game of Life in pylattica\n",
    "\n",
    "In this guide, we show how one can use the pieces provided by `pylattica` to implement Conway's Game of Life. Conway's Game of Life is a famous cellular automaton defined by mathematician John Conway. It demonstrates the way that very complex phenomena can emerge from simple local interactions, and has been studied extensively.\n",
    "\n",
    "In Conway's Game of Life, a 2D square grid of cells are labelled as \"alive\" or \"dead\". Then, as the simulation progresses, the cell states flip between \"dead\" and \"alive\" depending on how many living cells surround them.\n",
    "\n",
    "Before we begin though, take a quick look at the [Wikipedia Article](https://en.wikipedia.org/wiki/Conway%27s_Game_of_Life) for the Game of Life to understand what the model is.\n",
    "\n",
    "In particular, note that the rules describing the game are simple:\n",
    "\n",
    "1. Any live cell with fewer than two live neighbours dies, as if by underpopulation.\n",
    "2. Any live cell with two or three live neighbours lives on to the next generation.\n",
    "3. Any live cell with more than three live neighbours dies, as if by overpopulation.\n",
    "4. Any dead cell with exactly three live neighbours becomes a live cell, as if by reproduction.\n",
    "\n",
    "In this notebook, we will implement this model using `pylattica` and show some of the libarary's visualization capabilities."
   ]
  },
  {
   "cell_type": "markdown",
   "id": "4d7c53cb-acfa-4e8c-9567-f9d0b33b43be",
   "metadata": {},
   "source": [
    "## Implementing the Update Rule"
   ]
  },
  {
   "cell_type": "markdown",
   "id": "ef365913-03b0-47e4-b955-f2de7994da75",
   "metadata": {},
   "source": [
    "Let's start this implementation by writing out the update rule above in code. We'll do this by implementing a function that takes the old state of a cell and the states of the neighboring cells, and returns the new state. We're not using anything from `pylattica` at all right now, just translating the rules of the Game into code."
   ]
  },
  {
   "cell_type": "code",
   "execution_count": 14,
   "id": "dbc8cdae-ca5c-488c-acdd-d7783c00617d",
   "metadata": {},
   "outputs": [],
   "source": [
    "def update_state(old_state, neighboring_states):\n",
    "    alive_neighbor_count = 0\n",
    "    dead_neighbor_count = 0\n",
    "    \n",
    "    for state in neighboring_states:\n",
    "        if state == \"alive\":\n",
    "            alive_neighbor_count += 1\n",
    "        else:\n",
    "            # since all cells are either alive or dead, nothing else\n",
    "            dead_neighbor_count += 1\n",
    "    \n",
    "    # Now, we can implement the rules in python logic:\n",
    "    if old_state == \"alive\":\n",
    "        if alive_neighbor_count < 2:\n",
    "            return \"dead\"\n",
    "        elif alive_neighbor_count == 2 or alive_neighbor_count == 3:\n",
    "            return \"alive\"\n",
    "        elif alive_neighbor_count > 3:\n",
    "            return \"dead\"\n",
    "    elif old_state == \"dead\":\n",
    "        if alive_neighbor_count == 3:\n",
    "            return \"alive\"\n",
    "    \n",
    "    return old_state\n",
    "    "
   ]
  },
  {
   "cell_type": "markdown",
   "id": "be29b936-7229-4b87-8d14-6ed79dfe1db4",
   "metadata": {},
   "source": [
    "This is a bit verbose, but we've written it that way just to emphasize the direct mapping of logical statements here to the rules from the Wikipedia article. Let's try out some hypothetical situations:"
   ]
  },
  {
   "cell_type": "code",
   "execution_count": 15,
   "id": "b7a88a2e-7f8c-4d6f-b5b0-b18c47f1213f",
   "metadata": {},
   "outputs": [
    {
     "name": "stdout",
     "output_type": "stream",
     "text": [
      "alive cell, 2 dead, 2 alive neighbors:\n",
      "result: alive \n",
      "\n",
      "alive cell, 1 dead, 4 alive neighbors:\n",
      "result: dead \n",
      "\n",
      "dead cell, 1 dead, 3 alive neighbors:\n",
      "result: alive \n",
      "\n"
     ]
    }
   ],
   "source": [
    "print(\"alive cell, 2 dead, 2 alive neighbors:\")\n",
    "print(\"result:\", update_state(\"alive\", [\"alive\", \"dead\", \"alive\", \"dead\"]), \"\\n\")\n",
    "\n",
    "print(\"alive cell, 1 dead, 4 alive neighbors:\")\n",
    "print(\"result:\", update_state(\"alive\", [\"alive\", \"alive\", \"alive\", \"alive\"]), \"\\n\")\n",
    "\n",
    "print(\"dead cell, 1 dead, 3 alive neighbors:\")\n",
    "print(\"result:\", update_state(\"dead\", [\"alive\", \"alive\", \"alive\", \"dead\"]), \"\\n\")"
   ]
  },
  {
   "cell_type": "markdown",
   "id": "f2861bdd-bf7c-4b3e-b059-9857ab5a887a",
   "metadata": {},
   "source": [
    "The rule looks like it's working. Let's see how we can use pylattica to make this rule into a whole simulation."
   ]
  },
  {
   "cell_type": "markdown",
   "id": "11975360-4fbb-4bb0-ae31-23b3225b541f",
   "metadata": {},
   "source": [
    "## Setting Up The Simulation Structure"
   ]
  },
  {
   "cell_type": "markdown",
   "id": "5bc8387f-3cd0-4d43-9e58-93decb9e211c",
   "metadata": {},
   "source": [
    "We know that Conway's Game of Life has cells that are either dead or alive. These cells are arranged on a _2D square grid_. We refer to this grid as the _lattice_ on which the simulation evolves. One of the core functions of `pylattica` is to make it easy to define such lattices.\n",
    "\n",
    "To construct our 2D square grid, we will use the `Lattice` class.\n",
    "\n",
    "> **NOTE**: For detailed illustrations of the behavior of the `Lattice` class, please see the [Lattice guide](/guides/constructing_lattices.ipynb)."
   ]
  },
  {
   "cell_type": "code",
   "execution_count": 18,
   "id": "ecdb28f2-d08d-4765-9cd4-f4bf73b1ead0",
   "metadata": {},
   "outputs": [],
   "source": [
    "lattice = Lattice([\n",
    "    [1, 0],\n",
    "    [0, 1]\n",
    "])"
   ]
  },
  {
   "cell_type": "markdown",
   "id": "952d0853-c7bf-4410-8053-c7118b69ba7b",
   "metadata": {},
   "source": [
    "Now that we've defined the [unit cell](https://en.wikipedia.org/wiki/Unit_cell) of our lattice, we can build the structure of our simulation. This `Lattice` object defines the shape of a single square grid tile. We build a larger grid of tiles using the `PeriodicStructure` object.\n",
    "\n",
    "We'll place a single simulation site in the center of each of these tiles. We specify this arrangement using a \"motif\", as shown below.\n",
    "\n",
    "> **NOTE**: For more detailed instructions for making `PeriodicStructure`s, please see the [PeriodicStructure guide](../guides/periodic_structure.ipynb)\n",
    "\n",
    "In this case, we are specifying a single site at each lattice point."
   ]
  },
  {
   "cell_type": "code",
   "execution_count": 19,
   "id": "a068bf02-2c6b-48ed-a626-6c6420399998",
   "metadata": {},
   "outputs": [],
   "source": [
    "motif = [\n",
    "    [0, 0]\n",
    "]\n",
    "\n",
    "structure = PeriodicStructure.build_from(lattice, (20,20), motif)"
   ]
  },
  {
   "cell_type": "markdown",
   "id": "02dce952-0e6c-41bf-a8a1-86953e2a0b6c",
   "metadata": {},
   "source": [
    "The lines of code above create a 20 x 20 square grid with periodic boundary conditions (see the [`PeriodicStructure` guide](../guides/periodic_structures.ipynb) for details on periodicity). This structure will be used to define the neighbors of each cell.\n",
    "\n",
    "Before we defined the neighborhood, let's set up a starting state for our simulation.\n",
    "\n",
    "### Simulation State\n",
    "\n",
    "We can construct an empty simulation state using the structure we generated:\n",
    "\n",
    "> **NOTE**: For more details about the `SimulationState` object, see the [SimulationState guide](../guides/simulation_state.ipynb)"
   ]
  },
  {
   "cell_type": "code",
   "execution_count": 40,
   "id": "4e043e59-7028-4290-9659-ef027bd41ecb",
   "metadata": {
    "scrolled": true
   },
   "outputs": [
    {
     "data": {
      "text/plain": [
       "[{'_site_id': 0, 'STATE': 'ALIVE'},\n",
       " {'_site_id': 1, 'STATE': 'DEAD'},\n",
       " {'_site_id': 2, 'STATE': 'ALIVE'},\n",
       " {'_site_id': 3, 'STATE': 'DEAD'},\n",
       " {'_site_id': 4, 'STATE': 'DEAD'},\n",
       " {'_site_id': 5, 'STATE': 'ALIVE'},\n",
       " {'_site_id': 6, 'STATE': 'DEAD'},\n",
       " {'_site_id': 7, 'STATE': 'ALIVE'},\n",
       " {'_site_id': 8, 'STATE': 'DEAD'},\n",
       " {'_site_id': 9, 'STATE': 'DEAD'},\n",
       " {'_site_id': 10, 'STATE': 'DEAD'},\n",
       " {'_site_id': 11, 'STATE': 'ALIVE'},\n",
       " {'_site_id': 12, 'STATE': 'DEAD'},\n",
       " {'_site_id': 13, 'STATE': 'DEAD'},\n",
       " {'_site_id': 14, 'STATE': 'DEAD'},\n",
       " {'_site_id': 15, 'STATE': 'DEAD'},\n",
       " {'_site_id': 16, 'STATE': 'DEAD'},\n",
       " {'_site_id': 17, 'STATE': 'ALIVE'},\n",
       " {'_site_id': 18, 'STATE': 'DEAD'},\n",
       " {'_site_id': 19, 'STATE': 'ALIVE'},\n",
       " {'_site_id': 20, 'STATE': 'ALIVE'},\n",
       " {'_site_id': 21, 'STATE': 'DEAD'},\n",
       " {'_site_id': 22, 'STATE': 'DEAD'},\n",
       " {'_site_id': 23, 'STATE': 'DEAD'},\n",
       " {'_site_id': 24, 'STATE': 'ALIVE'},\n",
       " {'_site_id': 25, 'STATE': 'DEAD'},\n",
       " {'_site_id': 26, 'STATE': 'DEAD'},\n",
       " {'_site_id': 27, 'STATE': 'DEAD'},\n",
       " {'_site_id': 28, 'STATE': 'ALIVE'},\n",
       " {'_site_id': 29, 'STATE': 'DEAD'},\n",
       " {'_site_id': 30, 'STATE': 'ALIVE'},\n",
       " {'_site_id': 31, 'STATE': 'DEAD'},\n",
       " {'_site_id': 32, 'STATE': 'DEAD'},\n",
       " {'_site_id': 33, 'STATE': 'ALIVE'},\n",
       " {'_site_id': 34, 'STATE': 'DEAD'},\n",
       " {'_site_id': 35, 'STATE': 'DEAD'},\n",
       " {'_site_id': 36, 'STATE': 'DEAD'},\n",
       " {'_site_id': 37, 'STATE': 'ALIVE'},\n",
       " {'_site_id': 38, 'STATE': 'DEAD'},\n",
       " {'_site_id': 39, 'STATE': 'DEAD'},\n",
       " {'_site_id': 40, 'STATE': 'DEAD'},\n",
       " {'_site_id': 41, 'STATE': 'ALIVE'},\n",
       " {'_site_id': 42, 'STATE': 'DEAD'},\n",
       " {'_site_id': 43, 'STATE': 'ALIVE'},\n",
       " {'_site_id': 44, 'STATE': 'ALIVE'},\n",
       " {'_site_id': 45, 'STATE': 'DEAD'},\n",
       " {'_site_id': 46, 'STATE': 'DEAD'},\n",
       " {'_site_id': 47, 'STATE': 'ALIVE'},\n",
       " {'_site_id': 48, 'STATE': 'DEAD'},\n",
       " {'_site_id': 49, 'STATE': 'ALIVE'},\n",
       " {'_site_id': 50, 'STATE': 'DEAD'},\n",
       " {'_site_id': 51, 'STATE': 'DEAD'},\n",
       " {'_site_id': 52, 'STATE': 'ALIVE'},\n",
       " {'_site_id': 53, 'STATE': 'DEAD'},\n",
       " {'_site_id': 54, 'STATE': 'ALIVE'},\n",
       " {'_site_id': 55, 'STATE': 'ALIVE'},\n",
       " {'_site_id': 56, 'STATE': 'ALIVE'},\n",
       " {'_site_id': 57, 'STATE': 'ALIVE'},\n",
       " {'_site_id': 58, 'STATE': 'DEAD'},\n",
       " {'_site_id': 59, 'STATE': 'ALIVE'},\n",
       " {'_site_id': 60, 'STATE': 'ALIVE'},\n",
       " {'_site_id': 61, 'STATE': 'DEAD'},\n",
       " {'_site_id': 62, 'STATE': 'DEAD'},\n",
       " {'_site_id': 63, 'STATE': 'ALIVE'},\n",
       " {'_site_id': 64, 'STATE': 'DEAD'},\n",
       " {'_site_id': 65, 'STATE': 'ALIVE'},\n",
       " {'_site_id': 66, 'STATE': 'ALIVE'},\n",
       " {'_site_id': 67, 'STATE': 'DEAD'},\n",
       " {'_site_id': 68, 'STATE': 'ALIVE'},\n",
       " {'_site_id': 69, 'STATE': 'DEAD'},\n",
       " {'_site_id': 70, 'STATE': 'ALIVE'},\n",
       " {'_site_id': 71, 'STATE': 'ALIVE'},\n",
       " {'_site_id': 72, 'STATE': 'ALIVE'},\n",
       " {'_site_id': 73, 'STATE': 'ALIVE'},\n",
       " {'_site_id': 74, 'STATE': 'DEAD'},\n",
       " {'_site_id': 75, 'STATE': 'DEAD'},\n",
       " {'_site_id': 76, 'STATE': 'ALIVE'},\n",
       " {'_site_id': 77, 'STATE': 'ALIVE'},\n",
       " {'_site_id': 78, 'STATE': 'DEAD'},\n",
       " {'_site_id': 79, 'STATE': 'DEAD'},\n",
       " {'_site_id': 80, 'STATE': 'ALIVE'},\n",
       " {'_site_id': 81, 'STATE': 'ALIVE'},\n",
       " {'_site_id': 82, 'STATE': 'ALIVE'},\n",
       " {'_site_id': 83, 'STATE': 'DEAD'},\n",
       " {'_site_id': 84, 'STATE': 'DEAD'},\n",
       " {'_site_id': 85, 'STATE': 'ALIVE'},\n",
       " {'_site_id': 86, 'STATE': 'ALIVE'},\n",
       " {'_site_id': 87, 'STATE': 'ALIVE'},\n",
       " {'_site_id': 88, 'STATE': 'ALIVE'},\n",
       " {'_site_id': 89, 'STATE': 'DEAD'},\n",
       " {'_site_id': 90, 'STATE': 'DEAD'},\n",
       " {'_site_id': 91, 'STATE': 'ALIVE'},\n",
       " {'_site_id': 92, 'STATE': 'ALIVE'},\n",
       " {'_site_id': 93, 'STATE': 'ALIVE'},\n",
       " {'_site_id': 94, 'STATE': 'ALIVE'},\n",
       " {'_site_id': 95, 'STATE': 'ALIVE'},\n",
       " {'_site_id': 96, 'STATE': 'ALIVE'},\n",
       " {'_site_id': 97, 'STATE': 'DEAD'},\n",
       " {'_site_id': 98, 'STATE': 'ALIVE'},\n",
       " {'_site_id': 99, 'STATE': 'DEAD'},\n",
       " {'_site_id': 100, 'STATE': 'ALIVE'},\n",
       " {'_site_id': 101, 'STATE': 'DEAD'},\n",
       " {'_site_id': 102, 'STATE': 'DEAD'},\n",
       " {'_site_id': 103, 'STATE': 'ALIVE'},\n",
       " {'_site_id': 104, 'STATE': 'DEAD'},\n",
       " {'_site_id': 105, 'STATE': 'DEAD'},\n",
       " {'_site_id': 106, 'STATE': 'ALIVE'},\n",
       " {'_site_id': 107, 'STATE': 'DEAD'},\n",
       " {'_site_id': 108, 'STATE': 'ALIVE'},\n",
       " {'_site_id': 109, 'STATE': 'DEAD'},\n",
       " {'_site_id': 110, 'STATE': 'DEAD'},\n",
       " {'_site_id': 111, 'STATE': 'DEAD'},\n",
       " {'_site_id': 112, 'STATE': 'DEAD'},\n",
       " {'_site_id': 113, 'STATE': 'DEAD'},\n",
       " {'_site_id': 114, 'STATE': 'DEAD'},\n",
       " {'_site_id': 115, 'STATE': 'DEAD'},\n",
       " {'_site_id': 116, 'STATE': 'DEAD'},\n",
       " {'_site_id': 117, 'STATE': 'ALIVE'},\n",
       " {'_site_id': 118, 'STATE': 'ALIVE'},\n",
       " {'_site_id': 119, 'STATE': 'ALIVE'},\n",
       " {'_site_id': 120, 'STATE': 'ALIVE'},\n",
       " {'_site_id': 121, 'STATE': 'DEAD'},\n",
       " {'_site_id': 122, 'STATE': 'DEAD'},\n",
       " {'_site_id': 123, 'STATE': 'DEAD'},\n",
       " {'_site_id': 124, 'STATE': 'DEAD'},\n",
       " {'_site_id': 125, 'STATE': 'ALIVE'},\n",
       " {'_site_id': 126, 'STATE': 'ALIVE'},\n",
       " {'_site_id': 127, 'STATE': 'DEAD'},\n",
       " {'_site_id': 128, 'STATE': 'DEAD'},\n",
       " {'_site_id': 129, 'STATE': 'ALIVE'},\n",
       " {'_site_id': 130, 'STATE': 'DEAD'},\n",
       " {'_site_id': 131, 'STATE': 'ALIVE'},\n",
       " {'_site_id': 132, 'STATE': 'DEAD'},\n",
       " {'_site_id': 133, 'STATE': 'ALIVE'},\n",
       " {'_site_id': 134, 'STATE': 'DEAD'},\n",
       " {'_site_id': 135, 'STATE': 'ALIVE'},\n",
       " {'_site_id': 136, 'STATE': 'DEAD'},\n",
       " {'_site_id': 137, 'STATE': 'DEAD'},\n",
       " {'_site_id': 138, 'STATE': 'DEAD'},\n",
       " {'_site_id': 139, 'STATE': 'ALIVE'},\n",
       " {'_site_id': 140, 'STATE': 'ALIVE'},\n",
       " {'_site_id': 141, 'STATE': 'DEAD'},\n",
       " {'_site_id': 142, 'STATE': 'ALIVE'},\n",
       " {'_site_id': 143, 'STATE': 'ALIVE'},\n",
       " {'_site_id': 144, 'STATE': 'DEAD'},\n",
       " {'_site_id': 145, 'STATE': 'ALIVE'},\n",
       " {'_site_id': 146, 'STATE': 'DEAD'},\n",
       " {'_site_id': 147, 'STATE': 'ALIVE'},\n",
       " {'_site_id': 148, 'STATE': 'ALIVE'},\n",
       " {'_site_id': 149, 'STATE': 'DEAD'},\n",
       " {'_site_id': 150, 'STATE': 'ALIVE'},\n",
       " {'_site_id': 151, 'STATE': 'DEAD'},\n",
       " {'_site_id': 152, 'STATE': 'ALIVE'},\n",
       " {'_site_id': 153, 'STATE': 'ALIVE'},\n",
       " {'_site_id': 154, 'STATE': 'DEAD'},\n",
       " {'_site_id': 155, 'STATE': 'ALIVE'},\n",
       " {'_site_id': 156, 'STATE': 'DEAD'},\n",
       " {'_site_id': 157, 'STATE': 'DEAD'},\n",
       " {'_site_id': 158, 'STATE': 'ALIVE'},\n",
       " {'_site_id': 159, 'STATE': 'ALIVE'},\n",
       " {'_site_id': 160, 'STATE': 'DEAD'},\n",
       " {'_site_id': 161, 'STATE': 'ALIVE'},\n",
       " {'_site_id': 162, 'STATE': 'ALIVE'},\n",
       " {'_site_id': 163, 'STATE': 'ALIVE'},\n",
       " {'_site_id': 164, 'STATE': 'ALIVE'},\n",
       " {'_site_id': 165, 'STATE': 'ALIVE'},\n",
       " {'_site_id': 166, 'STATE': 'DEAD'},\n",
       " {'_site_id': 167, 'STATE': 'ALIVE'},\n",
       " {'_site_id': 168, 'STATE': 'DEAD'},\n",
       " {'_site_id': 169, 'STATE': 'ALIVE'},\n",
       " {'_site_id': 170, 'STATE': 'DEAD'},\n",
       " {'_site_id': 171, 'STATE': 'DEAD'},\n",
       " {'_site_id': 172, 'STATE': 'ALIVE'},\n",
       " {'_site_id': 173, 'STATE': 'DEAD'},\n",
       " {'_site_id': 174, 'STATE': 'DEAD'},\n",
       " {'_site_id': 175, 'STATE': 'DEAD'},\n",
       " {'_site_id': 176, 'STATE': 'DEAD'},\n",
       " {'_site_id': 177, 'STATE': 'ALIVE'},\n",
       " {'_site_id': 178, 'STATE': 'ALIVE'},\n",
       " {'_site_id': 179, 'STATE': 'DEAD'},\n",
       " {'_site_id': 180, 'STATE': 'ALIVE'},\n",
       " {'_site_id': 181, 'STATE': 'ALIVE'},\n",
       " {'_site_id': 182, 'STATE': 'ALIVE'},\n",
       " {'_site_id': 183, 'STATE': 'DEAD'},\n",
       " {'_site_id': 184, 'STATE': 'ALIVE'},\n",
       " {'_site_id': 185, 'STATE': 'ALIVE'},\n",
       " {'_site_id': 186, 'STATE': 'ALIVE'},\n",
       " {'_site_id': 187, 'STATE': 'ALIVE'},\n",
       " {'_site_id': 188, 'STATE': 'DEAD'},\n",
       " {'_site_id': 189, 'STATE': 'ALIVE'},\n",
       " {'_site_id': 190, 'STATE': 'ALIVE'},\n",
       " {'_site_id': 191, 'STATE': 'DEAD'},\n",
       " {'_site_id': 192, 'STATE': 'DEAD'},\n",
       " {'_site_id': 193, 'STATE': 'ALIVE'},\n",
       " {'_site_id': 194, 'STATE': 'ALIVE'},\n",
       " {'_site_id': 195, 'STATE': 'ALIVE'},\n",
       " {'_site_id': 196, 'STATE': 'DEAD'},\n",
       " {'_site_id': 197, 'STATE': 'ALIVE'},\n",
       " {'_site_id': 198, 'STATE': 'DEAD'},\n",
       " {'_site_id': 199, 'STATE': 'ALIVE'},\n",
       " {'_site_id': 200, 'STATE': 'ALIVE'},\n",
       " {'_site_id': 201, 'STATE': 'DEAD'},\n",
       " {'_site_id': 202, 'STATE': 'ALIVE'},\n",
       " {'_site_id': 203, 'STATE': 'ALIVE'},\n",
       " {'_site_id': 204, 'STATE': 'DEAD'},\n",
       " {'_site_id': 205, 'STATE': 'DEAD'},\n",
       " {'_site_id': 206, 'STATE': 'DEAD'},\n",
       " {'_site_id': 207, 'STATE': 'DEAD'},\n",
       " {'_site_id': 208, 'STATE': 'ALIVE'},\n",
       " {'_site_id': 209, 'STATE': 'ALIVE'},\n",
       " {'_site_id': 210, 'STATE': 'DEAD'},\n",
       " {'_site_id': 211, 'STATE': 'ALIVE'},\n",
       " {'_site_id': 212, 'STATE': 'DEAD'},\n",
       " {'_site_id': 213, 'STATE': 'ALIVE'},\n",
       " {'_site_id': 214, 'STATE': 'DEAD'},\n",
       " {'_site_id': 215, 'STATE': 'ALIVE'},\n",
       " {'_site_id': 216, 'STATE': 'ALIVE'},\n",
       " {'_site_id': 217, 'STATE': 'ALIVE'},\n",
       " {'_site_id': 218, 'STATE': 'ALIVE'},\n",
       " {'_site_id': 219, 'STATE': 'DEAD'},\n",
       " {'_site_id': 220, 'STATE': 'ALIVE'},\n",
       " {'_site_id': 221, 'STATE': 'DEAD'},\n",
       " {'_site_id': 222, 'STATE': 'DEAD'},\n",
       " {'_site_id': 223, 'STATE': 'DEAD'},\n",
       " {'_site_id': 224, 'STATE': 'ALIVE'},\n",
       " {'_site_id': 225, 'STATE': 'ALIVE'},\n",
       " {'_site_id': 226, 'STATE': 'ALIVE'},\n",
       " {'_site_id': 227, 'STATE': 'ALIVE'},\n",
       " {'_site_id': 228, 'STATE': 'DEAD'},\n",
       " {'_site_id': 229, 'STATE': 'ALIVE'},\n",
       " {'_site_id': 230, 'STATE': 'DEAD'},\n",
       " {'_site_id': 231, 'STATE': 'DEAD'},\n",
       " {'_site_id': 232, 'STATE': 'DEAD'},\n",
       " {'_site_id': 233, 'STATE': 'DEAD'},\n",
       " {'_site_id': 234, 'STATE': 'ALIVE'},\n",
       " {'_site_id': 235, 'STATE': 'ALIVE'},\n",
       " {'_site_id': 236, 'STATE': 'ALIVE'},\n",
       " {'_site_id': 237, 'STATE': 'ALIVE'},\n",
       " {'_site_id': 238, 'STATE': 'DEAD'},\n",
       " {'_site_id': 239, 'STATE': 'DEAD'},\n",
       " {'_site_id': 240, 'STATE': 'DEAD'},\n",
       " {'_site_id': 241, 'STATE': 'DEAD'},\n",
       " {'_site_id': 242, 'STATE': 'ALIVE'},\n",
       " {'_site_id': 243, 'STATE': 'ALIVE'},\n",
       " {'_site_id': 244, 'STATE': 'ALIVE'},\n",
       " {'_site_id': 245, 'STATE': 'DEAD'},\n",
       " {'_site_id': 246, 'STATE': 'ALIVE'},\n",
       " {'_site_id': 247, 'STATE': 'ALIVE'},\n",
       " {'_site_id': 248, 'STATE': 'ALIVE'},\n",
       " {'_site_id': 249, 'STATE': 'ALIVE'},\n",
       " {'_site_id': 250, 'STATE': 'DEAD'},\n",
       " {'_site_id': 251, 'STATE': 'ALIVE'},\n",
       " {'_site_id': 252, 'STATE': 'ALIVE'},\n",
       " {'_site_id': 253, 'STATE': 'DEAD'},\n",
       " {'_site_id': 254, 'STATE': 'DEAD'},\n",
       " {'_site_id': 255, 'STATE': 'ALIVE'},\n",
       " {'_site_id': 256, 'STATE': 'ALIVE'},\n",
       " {'_site_id': 257, 'STATE': 'DEAD'},\n",
       " {'_site_id': 258, 'STATE': 'DEAD'},\n",
       " {'_site_id': 259, 'STATE': 'ALIVE'},\n",
       " {'_site_id': 260, 'STATE': 'DEAD'},\n",
       " {'_site_id': 261, 'STATE': 'DEAD'},\n",
       " {'_site_id': 262, 'STATE': 'ALIVE'},\n",
       " {'_site_id': 263, 'STATE': 'ALIVE'},\n",
       " {'_site_id': 264, 'STATE': 'DEAD'},\n",
       " {'_site_id': 265, 'STATE': 'ALIVE'},\n",
       " {'_site_id': 266, 'STATE': 'ALIVE'},\n",
       " {'_site_id': 267, 'STATE': 'ALIVE'},\n",
       " {'_site_id': 268, 'STATE': 'DEAD'},\n",
       " {'_site_id': 269, 'STATE': 'DEAD'},\n",
       " {'_site_id': 270, 'STATE': 'DEAD'},\n",
       " {'_site_id': 271, 'STATE': 'DEAD'},\n",
       " {'_site_id': 272, 'STATE': 'DEAD'},\n",
       " {'_site_id': 273, 'STATE': 'ALIVE'},\n",
       " {'_site_id': 274, 'STATE': 'ALIVE'},\n",
       " {'_site_id': 275, 'STATE': 'ALIVE'},\n",
       " {'_site_id': 276, 'STATE': 'DEAD'},\n",
       " {'_site_id': 277, 'STATE': 'DEAD'},\n",
       " {'_site_id': 278, 'STATE': 'ALIVE'},\n",
       " {'_site_id': 279, 'STATE': 'DEAD'},\n",
       " {'_site_id': 280, 'STATE': 'ALIVE'},\n",
       " {'_site_id': 281, 'STATE': 'DEAD'},\n",
       " {'_site_id': 282, 'STATE': 'ALIVE'},\n",
       " {'_site_id': 283, 'STATE': 'ALIVE'},\n",
       " {'_site_id': 284, 'STATE': 'DEAD'},\n",
       " {'_site_id': 285, 'STATE': 'ALIVE'},\n",
       " {'_site_id': 286, 'STATE': 'DEAD'},\n",
       " {'_site_id': 287, 'STATE': 'DEAD'},\n",
       " {'_site_id': 288, 'STATE': 'DEAD'},\n",
       " {'_site_id': 289, 'STATE': 'DEAD'},\n",
       " {'_site_id': 290, 'STATE': 'DEAD'},\n",
       " {'_site_id': 291, 'STATE': 'ALIVE'},\n",
       " {'_site_id': 292, 'STATE': 'DEAD'},\n",
       " {'_site_id': 293, 'STATE': 'ALIVE'},\n",
       " {'_site_id': 294, 'STATE': 'DEAD'},\n",
       " {'_site_id': 295, 'STATE': 'DEAD'},\n",
       " {'_site_id': 296, 'STATE': 'ALIVE'},\n",
       " {'_site_id': 297, 'STATE': 'DEAD'},\n",
       " {'_site_id': 298, 'STATE': 'DEAD'},\n",
       " {'_site_id': 299, 'STATE': 'DEAD'},\n",
       " {'_site_id': 300, 'STATE': 'ALIVE'},\n",
       " {'_site_id': 301, 'STATE': 'DEAD'},\n",
       " {'_site_id': 302, 'STATE': 'DEAD'},\n",
       " {'_site_id': 303, 'STATE': 'ALIVE'},\n",
       " {'_site_id': 304, 'STATE': 'ALIVE'},\n",
       " {'_site_id': 305, 'STATE': 'DEAD'},\n",
       " {'_site_id': 306, 'STATE': 'ALIVE'},\n",
       " {'_site_id': 307, 'STATE': 'ALIVE'},\n",
       " {'_site_id': 308, 'STATE': 'ALIVE'},\n",
       " {'_site_id': 309, 'STATE': 'ALIVE'},\n",
       " {'_site_id': 310, 'STATE': 'DEAD'},\n",
       " {'_site_id': 311, 'STATE': 'DEAD'},\n",
       " {'_site_id': 312, 'STATE': 'DEAD'},\n",
       " {'_site_id': 313, 'STATE': 'DEAD'},\n",
       " {'_site_id': 314, 'STATE': 'ALIVE'},\n",
       " {'_site_id': 315, 'STATE': 'DEAD'},\n",
       " {'_site_id': 316, 'STATE': 'ALIVE'},\n",
       " {'_site_id': 317, 'STATE': 'ALIVE'},\n",
       " {'_site_id': 318, 'STATE': 'ALIVE'},\n",
       " {'_site_id': 319, 'STATE': 'ALIVE'},\n",
       " {'_site_id': 320, 'STATE': 'DEAD'},\n",
       " {'_site_id': 321, 'STATE': 'DEAD'},\n",
       " {'_site_id': 322, 'STATE': 'DEAD'},\n",
       " {'_site_id': 323, 'STATE': 'ALIVE'},\n",
       " {'_site_id': 324, 'STATE': 'ALIVE'},\n",
       " {'_site_id': 325, 'STATE': 'DEAD'},\n",
       " {'_site_id': 326, 'STATE': 'DEAD'},\n",
       " {'_site_id': 327, 'STATE': 'ALIVE'},\n",
       " {'_site_id': 328, 'STATE': 'ALIVE'},\n",
       " {'_site_id': 329, 'STATE': 'ALIVE'},\n",
       " {'_site_id': 330, 'STATE': 'DEAD'},\n",
       " {'_site_id': 331, 'STATE': 'ALIVE'},\n",
       " {'_site_id': 332, 'STATE': 'ALIVE'},\n",
       " {'_site_id': 333, 'STATE': 'ALIVE'},\n",
       " {'_site_id': 334, 'STATE': 'DEAD'},\n",
       " {'_site_id': 335, 'STATE': 'ALIVE'},\n",
       " {'_site_id': 336, 'STATE': 'DEAD'},\n",
       " {'_site_id': 337, 'STATE': 'DEAD'},\n",
       " {'_site_id': 338, 'STATE': 'DEAD'},\n",
       " {'_site_id': 339, 'STATE': 'DEAD'},\n",
       " {'_site_id': 340, 'STATE': 'DEAD'},\n",
       " {'_site_id': 341, 'STATE': 'ALIVE'},\n",
       " {'_site_id': 342, 'STATE': 'ALIVE'},\n",
       " {'_site_id': 343, 'STATE': 'ALIVE'},\n",
       " {'_site_id': 344, 'STATE': 'ALIVE'},\n",
       " {'_site_id': 345, 'STATE': 'DEAD'},\n",
       " {'_site_id': 346, 'STATE': 'ALIVE'},\n",
       " {'_site_id': 347, 'STATE': 'ALIVE'},\n",
       " {'_site_id': 348, 'STATE': 'DEAD'},\n",
       " {'_site_id': 349, 'STATE': 'ALIVE'},\n",
       " {'_site_id': 350, 'STATE': 'DEAD'},\n",
       " {'_site_id': 351, 'STATE': 'DEAD'},\n",
       " {'_site_id': 352, 'STATE': 'DEAD'},\n",
       " {'_site_id': 353, 'STATE': 'ALIVE'},\n",
       " {'_site_id': 354, 'STATE': 'DEAD'},\n",
       " {'_site_id': 355, 'STATE': 'ALIVE'},\n",
       " {'_site_id': 356, 'STATE': 'DEAD'},\n",
       " {'_site_id': 357, 'STATE': 'DEAD'},\n",
       " {'_site_id': 358, 'STATE': 'ALIVE'},\n",
       " {'_site_id': 359, 'STATE': 'DEAD'},\n",
       " {'_site_id': 360, 'STATE': 'DEAD'},\n",
       " {'_site_id': 361, 'STATE': 'ALIVE'},\n",
       " {'_site_id': 362, 'STATE': 'ALIVE'},\n",
       " {'_site_id': 363, 'STATE': 'ALIVE'},\n",
       " {'_site_id': 364, 'STATE': 'DEAD'},\n",
       " {'_site_id': 365, 'STATE': 'ALIVE'},\n",
       " {'_site_id': 366, 'STATE': 'ALIVE'},\n",
       " {'_site_id': 367, 'STATE': 'DEAD'},\n",
       " {'_site_id': 368, 'STATE': 'DEAD'},\n",
       " {'_site_id': 369, 'STATE': 'ALIVE'},\n",
       " {'_site_id': 370, 'STATE': 'DEAD'},\n",
       " {'_site_id': 371, 'STATE': 'DEAD'},\n",
       " {'_site_id': 372, 'STATE': 'ALIVE'},\n",
       " {'_site_id': 373, 'STATE': 'ALIVE'},\n",
       " {'_site_id': 374, 'STATE': 'DEAD'},\n",
       " {'_site_id': 375, 'STATE': 'DEAD'},\n",
       " {'_site_id': 376, 'STATE': 'ALIVE'},\n",
       " {'_site_id': 377, 'STATE': 'DEAD'},\n",
       " {'_site_id': 378, 'STATE': 'ALIVE'},\n",
       " {'_site_id': 379, 'STATE': 'ALIVE'},\n",
       " {'_site_id': 380, 'STATE': 'ALIVE'},\n",
       " {'_site_id': 381, 'STATE': 'DEAD'},\n",
       " {'_site_id': 382, 'STATE': 'ALIVE'},\n",
       " {'_site_id': 383, 'STATE': 'ALIVE'},\n",
       " {'_site_id': 384, 'STATE': 'DEAD'},\n",
       " {'_site_id': 385, 'STATE': 'ALIVE'},\n",
       " {'_site_id': 386, 'STATE': 'DEAD'},\n",
       " {'_site_id': 387, 'STATE': 'ALIVE'},\n",
       " {'_site_id': 388, 'STATE': 'ALIVE'},\n",
       " {'_site_id': 389, 'STATE': 'ALIVE'},\n",
       " {'_site_id': 390, 'STATE': 'ALIVE'},\n",
       " {'_site_id': 391, 'STATE': 'DEAD'},\n",
       " {'_site_id': 392, 'STATE': 'DEAD'},\n",
       " {'_site_id': 393, 'STATE': 'ALIVE'},\n",
       " {'_site_id': 394, 'STATE': 'ALIVE'},\n",
       " {'_site_id': 395, 'STATE': 'DEAD'},\n",
       " {'_site_id': 396, 'STATE': 'DEAD'},\n",
       " {'_site_id': 397, 'STATE': 'ALIVE'},\n",
       " {'_site_id': 398, 'STATE': 'DEAD'},\n",
       " {'_site_id': 399, 'STATE': 'DEAD'}]"
      ]
     },
     "execution_count": 40,
     "metadata": {},
     "output_type": "execute_result"
    }
   ],
   "source": [
    "initial_state.all_site_states()"
   ]
  },
  {
   "cell_type": "code",
   "execution_count": 41,
   "id": "37c759dd-3a8e-4842-9ea7-ae1ed0337268",
   "metadata": {},
   "outputs": [],
   "source": [
    "import json\n",
    "json.dump(initial_state.all_site_states(), open(\"./gol_state_dict_example.json\", \"w\"))"
   ]
  },
  {
   "cell_type": "code",
   "execution_count": 20,
   "id": "597bb043-16b4-460b-a373-cda1bf5d441e",
   "metadata": {},
   "outputs": [],
   "source": [
    "initial_state = SimulationState.from_struct(structure)"
   ]
  },
  {
   "cell_type": "markdown",
   "id": "55002d09-fa5d-498b-8a90-f4db06b306d2",
   "metadata": {},
   "source": [
    "This state object has entries for each of the sites in the structure. We can see this by grabbing an arbitrary site from the simulation structure."
   ]
  },
  {
   "cell_type": "code",
   "execution_count": 21,
   "id": "315e3709-f326-46ed-b5f8-0813bbe71362",
   "metadata": {},
   "outputs": [
    {
     "name": "stdout",
     "output_type": "stream",
     "text": [
      "State for site 0 : {'_site_id': 0}\n"
     ]
    }
   ],
   "source": [
    "arb_site = structure.id_at((0, 0))\n",
    "\n",
    "print(\"State for site\", arb_site, \":\", initial_state.get_site_state(arb_site))"
   ]
  },
  {
   "cell_type": "markdown",
   "id": "cd8d7a5a-d101-435d-8173-34e648f58aab",
   "metadata": {},
   "source": [
    "So far, this state is empty. There is no information contained in that dictionary that is specific to our simulation.\n",
    "\n",
    "In our simulation, each cell site is either \"dead\" or \"alive\". Since `SimulationState`s can contain any key value mapping, let's invent a convention for representing whether each site is alive or dead.\n",
    "\n",
    "The key for our state will be \"state\" and the value will be either \"alive\" or \"dead\". We can set up an initial simulation state by iterating over all the site IDs in the structure, and assigning a random dead or alive state to each of them."
   ]
  },
  {
   "cell_type": "code",
   "execution_count": 39,
   "id": "75da86eb-6cee-4d30-a3fd-320624c70d22",
   "metadata": {},
   "outputs": [
    {
     "name": "stdout",
     "output_type": "stream",
     "text": [
      "State for site 0 : {'_site_id': 0, 'STATE': 'ALIVE'}\n"
     ]
    }
   ],
   "source": [
    "import random\n",
    "\n",
    "dead = \"DEAD\"\n",
    "alive = \"ALIVE\"\n",
    "state = \"STATE\"\n",
    "\n",
    "state_choices = [dead, alive]\n",
    "\n",
    "for site_id in structure.site_ids:\n",
    "    initial_state.set_site_state(site_id, {\n",
    "        state: random.choice(state_choices)\n",
    "    })\n",
    "    \n",
    "print(\"State for site\", arb_site, \":\", initial_state.get_site_state(arb_site))"
   ]
  },
  {
   "cell_type": "markdown",
   "id": "72708f67-5543-46af-943b-84a4e2228b34",
   "metadata": {},
   "source": [
    "That's it! Now we can do a quick visualization to see what the simulation state looks like. `pylattica` only supports visualization of square grid structures. We can use the `SquareGridArtist2D` and `CellArtist` classes for this.\n",
    "\n",
    "The `CellArtist` defines the color that should be shown for each cell, and the legend label for that cell, as a function of it's state. We define ours like this: "
   ]
  },
  {
   "cell_type": "code",
   "execution_count": 26,
   "id": "d8ddce69-23aa-4b53-86c5-acb594b654ce",
   "metadata": {},
   "outputs": [],
   "source": [
    "from pylattica.visualization import CellArtist\n",
    "\n",
    "class GoLCellArtist(CellArtist):\n",
    "    \n",
    "    def get_color_from_cell_state(self, cell_state):\n",
    "        if cell_state[state] == dead:\n",
    "            return (0,100,150)\n",
    "        else:\n",
    "            return (255, 255, 150)\n",
    "    \n",
    "    def get_cell_legend_label(self, cell_state):\n",
    "        if cell_state[state] == dead:\n",
    "            return \"Dead\"\n",
    "        else:\n",
    "            return \"Alive\""
   ]
  },
  {
   "cell_type": "code",
   "execution_count": 27,
   "id": "2687d266-22cb-4fe0-ad9e-aab32651b530",
   "metadata": {},
   "outputs": [
    {
     "data": {
      "image/jpeg": "[encoded data removed]",
      "image/png": "[encoded data removed]",
      "text/plain": [
       "<PIL.Image.Image image mode=RGB size=525x400>"
      ]
     },
     "metadata": {},
     "output_type": "display_data"
    }
   ],
   "source": [
    "from pylattica.visualization import SquareGridArtist2D\n",
    "\n",
    "grid_artist = SquareGridArtist2D(structure, cell_artist=GoLCellArtist())\n",
    "\n",
    "grid_artist.jupyter_show(initial_state, cell_size=20)"
   ]
  },
  {
   "cell_type": "markdown",
   "id": "8a7f8feb-ff70-42bd-a1cd-7dadc4468f1a",
   "metadata": {
    "tags": []
   },
   "source": [
    "#### Site Neighborhoods\n",
    "\n",
    "The final ingredient to the pylattica model is the concept of a neighborhood. A neighborhood is simply the set of other sites that are considered neighbors. There are many different neighborhood specifications that are possible including classic neighborhoods for 2D square grids like [Moore Neighborhoods](https://en.wikipedia.org/wiki/Moore_neighborhood) and [Von Neumann Neighborhoods](https://en.wikipedia.org/wiki/Von_Neumann_neighborhood).\n",
    "\n",
    "You can specify neighborhoods in many different ways such as:\n",
    "\n",
    "- All cells within a certain distance (actually Moore and Von Neumann neighborhoods both fall into this category, but with different distance cutoffs, or different distance metrics)\n",
    "- All cells given by moving in a certain direction\n",
    "- A random subset of surrounding cells\n",
    "\n",
    "As specified in the Game of Life Wikipedia article, we need a Moore neighborhood (includes the cells in each of the cardinal directions and the diagonal directions). Though `pylattica` comes with a `MooreNeighborhood` built in under the square grid module, we will build ours from scratch.\n",
    "\n",
    "> **NOTE**: To learn more about `pylattica` `Neighborhood`s, take a look at the [Neighborhood guide](../guides/neighborhoods.ipynb)"
   ]
  },
  {
   "cell_type": "code",
   "execution_count": 29,
   "id": "054dee1a-1361-4387-886d-2e1d8826d0f0",
   "metadata": {},
   "outputs": [],
   "source": [
    "from pylattica.core.neighborhood_builders import DistanceNeighborhoodBuilder"
   ]
  },
  {
   "cell_type": "markdown",
   "id": "4b72eca3-9259-4119-9e1a-b10776d48bc1",
   "metadata": {},
   "source": [
    "To build a Moore Neighborhood, we will first observe that in the Moore Neighborhood, each neighbor is within 1.5 cell widths from the central cell. Using this observation, we know we can use a `DistanceNeighborhoodBuilder` for our use case. This builder makes assigns every cell neighbors which are within some specified cutoff radius.\n",
    "\n",
    "Here's how it works."
   ]
  },
  {
   "cell_type": "code",
   "execution_count": 30,
   "id": "05e0b029-9323-40ed-be08-1d4d1aaf73cb",
   "metadata": {},
   "outputs": [
    {
     "name": "stderr",
     "output_type": "stream",
     "text": [
      "100%|█████████████████████████████████████████████████████████████████████████████████████| 400/400 [00:01<00:00, 314.33it/s]\n"
     ]
    }
   ],
   "source": [
    "builder = DistanceNeighborhoodBuilder(cutoff=1.5)  \n",
    "nb_hood = builder.get(structure)"
   ]
  },
  {
   "cell_type": "markdown",
   "id": "9dcc8b59-3750-4be4-aa91-7c9470a46d7d",
   "metadata": {},
   "source": [
    "We can use the neighborhood to get the neighbors of any site, let's try the one at (5, 5)."
   ]
  },
  {
   "cell_type": "code",
   "execution_count": 31,
   "id": "886e35ad-f7e3-4f4d-9191-7c0cdc4988ed",
   "metadata": {},
   "outputs": [],
   "source": [
    "site = structure.site_at((5,5))\n",
    "nbs = nb_hood.neighbors_of(site['_site_id'])"
   ]
  },
  {
   "cell_type": "markdown",
   "id": "df290dbe-0491-47ac-81cf-b90a30ebfef6",
   "metadata": {},
   "source": [
    "What do we expect the locations of these neighboring sites to be?"
   ]
  },
  {
   "cell_type": "code",
   "execution_count": 32,
   "id": "8f36819b-d6d8-469a-b968-8f6746d0d906",
   "metadata": {},
   "outputs": [
    {
     "name": "stdout",
     "output_type": "stream",
     "text": [
      "Neighbor with ID 85 is at [4. 5.]\n",
      "Neighbor with ID 84 is at [4. 4.]\n",
      "Neighbor with ID 126 is at [6. 6.]\n",
      "Neighbor with ID 106 is at [5. 6.]\n",
      "Neighbor with ID 104 is at [5. 4.]\n",
      "Neighbor with ID 86 is at [4. 6.]\n",
      "Neighbor with ID 125 is at [6. 5.]\n",
      "Neighbor with ID 124 is at [6. 4.]\n"
     ]
    }
   ],
   "source": [
    "for nb_id in nbs:\n",
    "    site = structure.get_site(nb_id)\n",
    "    print(f'Neighbor with ID {nb_id} is at {site[\"_location\"]}')"
   ]
  },
  {
   "cell_type": "markdown",
   "id": "a6896bd5-c9c8-4387-8458-caf6267a69e7",
   "metadata": {},
   "source": [
    "As expected, these eight coordinate pairs correspond to the sites above, below, right and left, and diagonal of the site at (5, 5)."
   ]
  },
  {
   "cell_type": "markdown",
   "id": "3029a279-ac88-44b3-a6ea-7fd62300b88a",
   "metadata": {},
   "source": [
    "## Implementing the Simulation Controller\n",
    "\n",
    "We've defined the possible states in our system, and initialized a starting point. The next step is move our update rule from before into a format the pylattica can understand. For this, we have to implement a new `Controller` class."
   ]
  },
  {
   "cell_type": "code",
   "execution_count": 34,
   "id": "affb772a-12c0-4365-afaa-2be1fe8e4160",
   "metadata": {},
   "outputs": [],
   "source": [
    "from pylattica.core import BasicController, SimulationState\n",
    "from pylattica.discrete.state_constants import DISCRETE_OCCUPANCY\n",
    "from pylattica.core.simulation_state import SITES"
   ]
  },
  {
   "cell_type": "markdown",
   "id": "1b4e9ece-e0f3-4674-8ea2-a51a2309aae2",
   "metadata": {},
   "source": [
    "To accomplish this, we need to implement two methods in our controller class. The first, `pre_run` provides an opportunity to do any setup you'd like to before the simulation runs. It accepts as parameters the initial state of the simulation, and the structure underlying the state.\n",
    "\n",
    "All we'll do is setup a neighborhood based on the structure that we can use later.\n",
    "\n",
    "Second, we need to implement the `get_state_update` method. This is the fundamental piece of the controller. This method takes a site for which a new state should be calculated and the entire current simulation state. We can do any calculation we want to figure out the new state, but, armed with our neighborhood, and the update rule we implemented earlier, we have enough to create Conway's Game of Life."
   ]
  },
  {
   "cell_type": "code",
   "execution_count": 35,
   "id": "40bbad4c-8589-40d9-a1ff-26a3e153e787",
   "metadata": {},
   "outputs": [],
   "source": [
    "def update_state(old_state, neighboring_states):\n",
    "    alive_neighbor_count = 0\n",
    "    dead_neighbor_count = 0\n",
    "    \n",
    "    for state in neighboring_states:\n",
    "        if state == alive:\n",
    "            alive_neighbor_count += 1\n",
    "        else:\n",
    "            # since all cells are either alive or dead, nothing else\n",
    "            dead_neighbor_count += 1\n",
    "    \n",
    "    # Now, we can implement the rules in python logic:\n",
    "    if old_state == alive:\n",
    "        if alive_neighbor_count < 2:\n",
    "            return dead\n",
    "        elif alive_neighbor_count == 2 or alive_neighbor_count == 3:\n",
    "            return alive\n",
    "        elif alive_neighbor_count > 3:\n",
    "            return dead\n",
    "    elif old_state == dead:\n",
    "        if alive_neighbor_count == 3:\n",
    "            return alive\n",
    "        else:\n",
    "            return dead\n",
    "    \n",
    "    return old_state\n",
    "\n",
    "class GameOfLifeController(BasicController):\n",
    "    \n",
    "    def __init__(self, structure):\n",
    "        self.structure = structure\n",
    "    \n",
    "    def pre_run(self, initial_state):\n",
    "        # Before the simulation runs, we build a neighborhood based on the \n",
    "        # structure of the current simulation.\n",
    "        self.neighborhood = DistanceNeighborhoodBuilder(1.5).get(self.structure)\n",
    "    \n",
    "    def get_state_update(self, site_id, curr_state: SimulationState):\n",
    "        neighbor_site_ids = self.neighborhood.neighbors_of(site_id)\n",
    "        \n",
    "        neighbor_states = []\n",
    "        for nb_site_id in neighbor_site_ids:\n",
    "            neighbor_state = curr_state.get_site_state(nb_site_id)\n",
    "            neighbor_states.append(neighbor_state[state])\n",
    "\n",
    "        current_state = curr_state.get_site_state(site_id)[state]\n",
    "        \n",
    "        new_state = update_state(current_state, neighbor_states)\n",
    "        # print(site_id, current_state, neighbor_states, new_state)\n",
    "        updates = {\n",
    "            state: new_state\n",
    "        }\n",
    "        return updates\n",
    "            "
   ]
  },
  {
   "cell_type": "markdown",
   "id": "47a5db5f-8ef4-4d21-8305-8a59a1109714",
   "metadata": {},
   "source": [
    "Finally, we instantiate our controller and a `Runner`, and let the simulation run for a few steps."
   ]
  },
  {
   "cell_type": "code",
   "execution_count": 36,
   "id": "af7f090e-1af5-4239-9c60-06a6efb7f3ef",
   "metadata": {},
   "outputs": [
    {
     "name": "stderr",
     "output_type": "stream",
     "text": [
      "100%|█████████████████████████████████████████████████████████████████████████████████████| 400/400 [00:01<00:00, 322.20it/s]\n",
      "100%|█████████████████████████████████████████████████████████████████████████████████████| 100/100 [00:00<00:00, 606.47it/s]\n"
     ]
    }
   ],
   "source": [
    "controller = GameOfLifeController(structure)\n",
    "runner = SynchronousRunner(parallel = True)\n",
    "result = runner.run(initial_state, controller, 100)"
   ]
  },
  {
   "cell_type": "markdown",
   "id": "5ee7303a-c46a-43e1-ae74-8eee0ecf57d1",
   "metadata": {},
   "source": [
    "Using the visualization tool we instantiated earlier, we can see the results here!"
   ]
  },
  {
   "cell_type": "code",
   "execution_count": 37,
   "id": "c4346240-d455-4a76-add4-edf0c7129b85",
   "metadata": {},
   "outputs": [
    {
     "data": {
      "image/jpeg": "[encoded data removed]",
      "image/png": "[encoded data removed]",
      "text/plain": [
       "<PIL.Image.Image image mode=RGB size=395x300>"
      ]
     },
     "metadata": {},
     "output_type": "display_data"
    },
    {
     "data": {
      "image/jpeg": "[encoded data removed]",
      "image/png": "[encoded data removed]",
      "text/plain": [
       "<PIL.Image.Image image mode=RGB size=395x300>"
      ]
     },
     "metadata": {},
     "output_type": "display_data"
    },
    {
     "data": {
      "image/jpeg": "[encoded data removed]",
      "image/png": "[encoded data removed]",
      "text/plain": [
       "<PIL.Image.Image image mode=RGB size=395x300>"
      ]
     },
     "metadata": {},
     "output_type": "display_data"
    }
   ],
   "source": [
    "grid_artist.jupyter_show(result.get_step(10), cell_size=15)\n",
    "grid_artist.jupyter_show(result.get_step(20), cell_size=15)\n",
    "grid_artist.jupyter_show(result.get_step(30), cell_size=15)"
   ]
  },
  {
   "cell_type": "code",
   "execution_count": 38,
   "id": "a90836fd-12ec-4dce-ac48-2614ad2bfcad",
   "metadata": {},
   "outputs": [],
   "source": [
    "from pylattica.visualization import ResultArtist\n",
    "res_artist = ResultArtist(grid_artist, result)\n",
    "res_artist.to_gif(\"out.gif\", wait=0.1)"
   ]
  },
  {
   "cell_type": "code",
   "execution_count": null,
   "id": "b0b47bfe-2280-495d-a77d-34d30d4703c3",
   "metadata": {},
   "outputs": [],
   "source": []
  }
 ],
 "metadata": {
  "kernelspec": {
   "display_name": "Python [conda env:pylattica]",
   "language": "python",
   "name": "conda-env-pylattica-py"
  },
  "language_info": {
   "codemirror_mode": {
    "name": "ipython",
    "version": 3
   },
   "file_extension": ".py",
   "mimetype": "text/x-python",
   "name": "python",
   "nbconvert_exporter": "python",
   "pygments_lexer": "ipython3",
   "version": "3.10.14"
  }
 },
 "nbformat": 4,
 "nbformat_minor": 5
}
